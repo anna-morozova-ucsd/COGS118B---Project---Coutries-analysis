{
  "nbformat": 4,
  "nbformat_minor": 0,
  "metadata": {
    "colab": {
      "name": "Final project COGS 118B - master.ipynb",
      "provenance": [],
      "collapsed_sections": [
        "x9t-V53khEL3",
        "EOwC6y9uhS0h"
      ]
    },
    "kernelspec": {
      "name": "python3",
      "display_name": "Python 3"
    },
    "language_info": {
      "name": "python"
    }
  },
  "cells": [
    {
      "cell_type": "markdown",
      "source": [
        "# Final project COGS 118B\n"
      ],
      "metadata": {
        "id": "yB6THYkcD0RN"
      }
    },
    {
      "cell_type": "markdown",
      "source": [
        "## Part 1: Data"
      ],
      "metadata": {
        "id": "hyDIPjDZGuJS"
      }
    },
    {
      "cell_type": "code",
      "source": [
        "from google.colab import files\n",
        "import io\n",
        "import pandas as pd\n",
        "import numpy as np"
      ],
      "metadata": {
        "id": "AQvAu9zdEeOR"
      },
      "execution_count": null,
      "outputs": []
    },
    {
      "cell_type": "code",
      "execution_count": null,
      "metadata": {
        "colab": {
          "resources": {
            "http://localhost:8080/nbextensions/google.colab/files.js": {
              "data": "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",
              "ok": true,
              "headers": [
                [
                  "content-type",
                  "application/javascript"
                ]
              ],
              "status": 200,
              "status_text": ""
            }
          },
          "base_uri": "https://localhost:8080/",
          "height": 73
        },
        "id": "PJ43YGfsCNTN",
        "outputId": "45f71682-cbc2-4269-c08a-fe06cbc96978"
      },
      "outputs": [
        {
          "output_type": "display_data",
          "data": {
            "text/html": [
              "\n",
              "     <input type=\"file\" id=\"files-d7f657c1-f836-4420-8880-66db80530c58\" name=\"files[]\" multiple disabled\n",
              "        style=\"border:none\" />\n",
              "     <output id=\"result-d7f657c1-f836-4420-8880-66db80530c58\">\n",
              "      Upload widget is only available when the cell has been executed in the\n",
              "      current browser session. Please rerun this cell to enable.\n",
              "      </output>\n",
              "      <script src=\"/nbextensions/google.colab/files.js\"></script> "
            ],
            "text/plain": [
              "<IPython.core.display.HTML object>"
            ]
          },
          "metadata": {}
        },
        {
          "output_type": "stream",
          "name": "stdout",
          "text": [
            "Saving Country-data.csv to Country-data (2).csv\n"
          ]
        }
      ],
      "source": [
        "# Upload data\n",
        "uploaded = files.upload()"
      ]
    },
    {
      "cell_type": "code",
      "source": [
        "# Convert it into dataframe\n",
        "df = pd.read_csv(io.BytesIO(uploaded['Country-data.csv']))\n",
        "df.head()\n",
        "# Dataset is now stored in a Pandas Dataframe"
      ],
      "metadata": {
        "id": "BlytpbSnEJX2",
        "colab": {
          "base_uri": "https://localhost:8080/",
          "height": 206
        },
        "outputId": "452dc2fa-05b9-44a1-fe48-a37dbf8837d0"
      },
      "execution_count": null,
      "outputs": [
        {
          "output_type": "execute_result",
          "data": {
            "text/html": [
              "\n",
              "  <div id=\"df-5e3a3a0a-07a3-4c07-8161-11b68bd4e335\">\n",
              "    <div class=\"colab-df-container\">\n",
              "      <div>\n",
              "<style scoped>\n",
              "    .dataframe tbody tr th:only-of-type {\n",
              "        vertical-align: middle;\n",
              "    }\n",
              "\n",
              "    .dataframe tbody tr th {\n",
              "        vertical-align: top;\n",
              "    }\n",
              "\n",
              "    .dataframe thead th {\n",
              "        text-align: right;\n",
              "    }\n",
              "</style>\n",
              "<table border=\"1\" class=\"dataframe\">\n",
              "  <thead>\n",
              "    <tr style=\"text-align: right;\">\n",
              "      <th></th>\n",
              "      <th>country</th>\n",
              "      <th>child_mort</th>\n",
              "      <th>exports</th>\n",
              "      <th>health</th>\n",
              "      <th>imports</th>\n",
              "      <th>income</th>\n",
              "      <th>inflation</th>\n",
              "      <th>life_expec</th>\n",
              "      <th>total_fer</th>\n",
              "      <th>gdpp</th>\n",
              "    </tr>\n",
              "  </thead>\n",
              "  <tbody>\n",
              "    <tr>\n",
              "      <th>0</th>\n",
              "      <td>Afghanistan</td>\n",
              "      <td>90.2</td>\n",
              "      <td>10.0</td>\n",
              "      <td>7.58</td>\n",
              "      <td>44.9</td>\n",
              "      <td>1610</td>\n",
              "      <td>9.44</td>\n",
              "      <td>56.2</td>\n",
              "      <td>5.82</td>\n",
              "      <td>553</td>\n",
              "    </tr>\n",
              "    <tr>\n",
              "      <th>1</th>\n",
              "      <td>Albania</td>\n",
              "      <td>16.6</td>\n",
              "      <td>28.0</td>\n",
              "      <td>6.55</td>\n",
              "      <td>48.6</td>\n",
              "      <td>9930</td>\n",
              "      <td>4.49</td>\n",
              "      <td>76.3</td>\n",
              "      <td>1.65</td>\n",
              "      <td>4090</td>\n",
              "    </tr>\n",
              "    <tr>\n",
              "      <th>2</th>\n",
              "      <td>Algeria</td>\n",
              "      <td>27.3</td>\n",
              "      <td>38.4</td>\n",
              "      <td>4.17</td>\n",
              "      <td>31.4</td>\n",
              "      <td>12900</td>\n",
              "      <td>16.10</td>\n",
              "      <td>76.5</td>\n",
              "      <td>2.89</td>\n",
              "      <td>4460</td>\n",
              "    </tr>\n",
              "    <tr>\n",
              "      <th>3</th>\n",
              "      <td>Angola</td>\n",
              "      <td>119.0</td>\n",
              "      <td>62.3</td>\n",
              "      <td>2.85</td>\n",
              "      <td>42.9</td>\n",
              "      <td>5900</td>\n",
              "      <td>22.40</td>\n",
              "      <td>60.1</td>\n",
              "      <td>6.16</td>\n",
              "      <td>3530</td>\n",
              "    </tr>\n",
              "    <tr>\n",
              "      <th>4</th>\n",
              "      <td>Antigua and Barbuda</td>\n",
              "      <td>10.3</td>\n",
              "      <td>45.5</td>\n",
              "      <td>6.03</td>\n",
              "      <td>58.9</td>\n",
              "      <td>19100</td>\n",
              "      <td>1.44</td>\n",
              "      <td>76.8</td>\n",
              "      <td>2.13</td>\n",
              "      <td>12200</td>\n",
              "    </tr>\n",
              "  </tbody>\n",
              "</table>\n",
              "</div>\n",
              "      <button class=\"colab-df-convert\" onclick=\"convertToInteractive('df-5e3a3a0a-07a3-4c07-8161-11b68bd4e335')\"\n",
              "              title=\"Convert this dataframe to an interactive table.\"\n",
              "              style=\"display:none;\">\n",
              "        \n",
              "  <svg xmlns=\"http://www.w3.org/2000/svg\" height=\"24px\"viewBox=\"0 0 24 24\"\n",
              "       width=\"24px\">\n",
              "    <path d=\"M0 0h24v24H0V0z\" fill=\"none\"/>\n",
              "    <path d=\"M18.56 5.44l.94 2.06.94-2.06 2.06-.94-2.06-.94-.94-2.06-.94 2.06-2.06.94zm-11 1L8.5 8.5l.94-2.06 2.06-.94-2.06-.94L8.5 2.5l-.94 2.06-2.06.94zm10 10l.94 2.06.94-2.06 2.06-.94-2.06-.94-.94-2.06-.94 2.06-2.06.94z\"/><path d=\"M17.41 7.96l-1.37-1.37c-.4-.4-.92-.59-1.43-.59-.52 0-1.04.2-1.43.59L10.3 9.45l-7.72 7.72c-.78.78-.78 2.05 0 2.83L4 21.41c.39.39.9.59 1.41.59.51 0 1.02-.2 1.41-.59l7.78-7.78 2.81-2.81c.8-.78.8-2.07 0-2.86zM5.41 20L4 18.59l7.72-7.72 1.47 1.35L5.41 20z\"/>\n",
              "  </svg>\n",
              "      </button>\n",
              "      \n",
              "  <style>\n",
              "    .colab-df-container {\n",
              "      display:flex;\n",
              "      flex-wrap:wrap;\n",
              "      gap: 12px;\n",
              "    }\n",
              "\n",
              "    .colab-df-convert {\n",
              "      background-color: #E8F0FE;\n",
              "      border: none;\n",
              "      border-radius: 50%;\n",
              "      cursor: pointer;\n",
              "      display: none;\n",
              "      fill: #1967D2;\n",
              "      height: 32px;\n",
              "      padding: 0 0 0 0;\n",
              "      width: 32px;\n",
              "    }\n",
              "\n",
              "    .colab-df-convert:hover {\n",
              "      background-color: #E2EBFA;\n",
              "      box-shadow: 0px 1px 2px rgba(60, 64, 67, 0.3), 0px 1px 3px 1px rgba(60, 64, 67, 0.15);\n",
              "      fill: #174EA6;\n",
              "    }\n",
              "\n",
              "    [theme=dark] .colab-df-convert {\n",
              "      background-color: #3B4455;\n",
              "      fill: #D2E3FC;\n",
              "    }\n",
              "\n",
              "    [theme=dark] .colab-df-convert:hover {\n",
              "      background-color: #434B5C;\n",
              "      box-shadow: 0px 1px 3px 1px rgba(0, 0, 0, 0.15);\n",
              "      filter: drop-shadow(0px 1px 2px rgba(0, 0, 0, 0.3));\n",
              "      fill: #FFFFFF;\n",
              "    }\n",
              "  </style>\n",
              "\n",
              "      <script>\n",
              "        const buttonEl =\n",
              "          document.querySelector('#df-5e3a3a0a-07a3-4c07-8161-11b68bd4e335 button.colab-df-convert');\n",
              "        buttonEl.style.display =\n",
              "          google.colab.kernel.accessAllowed ? 'block' : 'none';\n",
              "\n",
              "        async function convertToInteractive(key) {\n",
              "          const element = document.querySelector('#df-5e3a3a0a-07a3-4c07-8161-11b68bd4e335');\n",
              "          const dataTable =\n",
              "            await google.colab.kernel.invokeFunction('convertToInteractive',\n",
              "                                                     [key], {});\n",
              "          if (!dataTable) return;\n",
              "\n",
              "          const docLinkHtml = 'Like what you see? Visit the ' +\n",
              "            '<a target=\"_blank\" href=https://colab.research.google.com/notebooks/data_table.ipynb>data table notebook</a>'\n",
              "            + ' to learn more about interactive tables.';\n",
              "          element.innerHTML = '';\n",
              "          dataTable['output_type'] = 'display_data';\n",
              "          await google.colab.output.renderOutput(dataTable, element);\n",
              "          const docLink = document.createElement('div');\n",
              "          docLink.innerHTML = docLinkHtml;\n",
              "          element.appendChild(docLink);\n",
              "        }\n",
              "      </script>\n",
              "    </div>\n",
              "  </div>\n",
              "  "
            ],
            "text/plain": [
              "               country  child_mort  exports  health  imports  income  \\\n",
              "0          Afghanistan        90.2     10.0    7.58     44.9    1610   \n",
              "1              Albania        16.6     28.0    6.55     48.6    9930   \n",
              "2              Algeria        27.3     38.4    4.17     31.4   12900   \n",
              "3               Angola       119.0     62.3    2.85     42.9    5900   \n",
              "4  Antigua and Barbuda        10.3     45.5    6.03     58.9   19100   \n",
              "\n",
              "   inflation  life_expec  total_fer   gdpp  \n",
              "0       9.44        56.2       5.82    553  \n",
              "1       4.49        76.3       1.65   4090  \n",
              "2      16.10        76.5       2.89   4460  \n",
              "3      22.40        60.1       6.16   3530  \n",
              "4       1.44        76.8       2.13  12200  "
            ]
          },
          "metadata": {},
          "execution_count": 3
        }
      ]
    },
    {
      "cell_type": "markdown",
      "source": [
        "## Part 2: K-means clustering"
      ],
      "metadata": {
        "id": "QUc1gd-EGwpr"
      }
    },
    {
      "cell_type": "markdown",
      "source": [
        "### 2.1 Without scaling"
      ],
      "metadata": {
        "id": "x9t-V53khEL3"
      }
    },
    {
      "cell_type": "code",
      "source": [
        "# Convert it into numpy (if needed?)\n",
        "my_data = df.to_numpy()"
      ],
      "metadata": {
        "id": "VB5okhBQGz_A"
      },
      "execution_count": null,
      "outputs": []
    },
    {
      "cell_type": "code",
      "source": [
        "# Look at data\n",
        "my_data.shape # data shape 167x10\n",
        "my_data[0:,:] # columns are: Name, child_mort, exports, health, imports, income, inflation, life_expec, total_fer, gdpp."
      ],
      "metadata": {
        "colab": {
          "base_uri": "https://localhost:8080/"
        },
        "id": "2SBqXxo7G0gc",
        "outputId": "9798442f-243c-4132-d59a-a31a806b01b2"
      },
      "execution_count": null,
      "outputs": [
        {
          "output_type": "execute_result",
          "data": {
            "text/plain": [
              "array([['Afghanistan', 90.2, 10.0, ..., 56.2, 5.82, 553],\n",
              "       ['Albania', 16.6, 28.0, ..., 76.3, 1.65, 4090],\n",
              "       ['Algeria', 27.3, 38.4, ..., 76.5, 2.89, 4460],\n",
              "       ...,\n",
              "       ['Vietnam', 23.3, 72.0, ..., 73.1, 1.95, 1310],\n",
              "       ['Yemen', 56.3, 30.0, ..., 67.5, 4.67, 1310],\n",
              "       ['Zambia', 83.1, 37.0, ..., 52.0, 5.4, 1460]], dtype=object)"
            ]
          },
          "metadata": {},
          "execution_count": 5
        }
      ]
    },
    {
      "cell_type": "code",
      "source": [
        "# Remove first column\n",
        "my_data2 = my_data[:,1:]\n",
        "print(my_data2.shape)\n",
        "my_data2[0:10,:]"
      ],
      "metadata": {
        "colab": {
          "base_uri": "https://localhost:8080/"
        },
        "id": "LVEt3w3-Ls6I",
        "outputId": "cabcf25b-665f-40ed-be2f-9c66e4fe5eff"
      },
      "execution_count": null,
      "outputs": [
        {
          "output_type": "stream",
          "name": "stdout",
          "text": [
            "(167, 9)\n"
          ]
        },
        {
          "output_type": "execute_result",
          "data": {
            "text/plain": [
              "array([[90.2, 10.0, 7.58, 44.9, 1610, 9.44, 56.2, 5.82, 553],\n",
              "       [16.6, 28.0, 6.55, 48.6, 9930, 4.49, 76.3, 1.65, 4090],\n",
              "       [27.3, 38.4, 4.17, 31.4, 12900, 16.1, 76.5, 2.89, 4460],\n",
              "       [119.0, 62.3, 2.85, 42.9, 5900, 22.4, 60.1, 6.16, 3530],\n",
              "       [10.3, 45.5, 6.03, 58.9, 19100, 1.44, 76.8, 2.13, 12200],\n",
              "       [14.5, 18.9, 8.1, 16.0, 18700, 20.9, 75.8, 2.37, 10300],\n",
              "       [18.1, 20.8, 4.4, 45.3, 6700, 7.77, 73.3, 1.69, 3220],\n",
              "       [4.8, 19.8, 8.73, 20.9, 41400, 1.16, 82.0, 1.93, 51900],\n",
              "       [4.3, 51.3, 11.0, 47.8, 43200, 0.873, 80.5, 1.44, 46900],\n",
              "       [39.2, 54.3, 5.88, 20.7, 16000, 13.8, 69.1, 1.92, 5840]],\n",
              "      dtype=object)"
            ]
          },
          "metadata": {},
          "execution_count": 6
        }
      ]
    },
    {
      "cell_type": "code",
      "source": [
        "# Convert to float \n",
        "my_data3 = np.array(list(my_data2), dtype=float)\n",
        "my_data3"
      ],
      "metadata": {
        "colab": {
          "base_uri": "https://localhost:8080/"
        },
        "id": "FBrL0A33ML5x",
        "outputId": "318caa48-17aa-47d0-d877-a98eada3609d"
      },
      "execution_count": null,
      "outputs": [
        {
          "output_type": "execute_result",
          "data": {
            "text/plain": [
              "array([[9.02e+01, 1.00e+01, 7.58e+00, ..., 5.62e+01, 5.82e+00, 5.53e+02],\n",
              "       [1.66e+01, 2.80e+01, 6.55e+00, ..., 7.63e+01, 1.65e+00, 4.09e+03],\n",
              "       [2.73e+01, 3.84e+01, 4.17e+00, ..., 7.65e+01, 2.89e+00, 4.46e+03],\n",
              "       ...,\n",
              "       [2.33e+01, 7.20e+01, 6.84e+00, ..., 7.31e+01, 1.95e+00, 1.31e+03],\n",
              "       [5.63e+01, 3.00e+01, 5.18e+00, ..., 6.75e+01, 4.67e+00, 1.31e+03],\n",
              "       [8.31e+01, 3.70e+01, 5.89e+00, ..., 5.20e+01, 5.40e+00, 1.46e+03]])"
            ]
          },
          "metadata": {},
          "execution_count": 7
        }
      ]
    },
    {
      "cell_type": "code",
      "source": [
        "def calcSqDistances(X, Kmus):\n",
        "  sqDist = ((-2 * X.dot(Kmus.T) + np.sum(np.multiply(Kmus,Kmus), axis = 1).T).T + np.sum(np.multiply(X,X), axis = 1)).T\n",
        "  return sqDist"
      ],
      "metadata": {
        "id": "A_1N9101Q5e4"
      },
      "execution_count": null,
      "outputs": []
    },
    {
      "cell_type": "code",
      "source": [
        "def determineRnk(sqDmat):\n",
        "    m = np.argmin(sqDmat, axis = 1)\n",
        "    Rnk = np.eye(sqDmat.shape[1])[m]\n",
        "    return Rnk"
      ],
      "metadata": {
        "id": "6tjEDLVXQ7TO"
      },
      "execution_count": null,
      "outputs": []
    },
    {
      "cell_type": "code",
      "source": [
        "def recalcMus(X, Rnk):\n",
        "    N,D = X.shape \n",
        "    Kmus_new = (np.divide(X.T.dot(Rnk),np.sum(Rnk,axis = 0))).T\n",
        "    \n",
        "    return Kmus_new"
      ],
      "metadata": {
        "id": "yDc0Y0DxQ8qG"
      },
      "execution_count": null,
      "outputs": []
    },
    {
      "cell_type": "code",
      "source": [
        "def runKMeans(K, data):\n",
        "    X = data\n",
        "    N, D = X.shape\n",
        "\n",
        "    #allocate space for the K mu vectors\n",
        "    Kmus = np.zeros((K, D))\n",
        "\n",
        "    #initialize cluster centers by randomly picking points from the data\n",
        "    rand_inds = np.random.permutation(N)\n",
        "    Kmus = X[rand_inds[0:K],:]\n",
        "\n",
        "    #specify the maximum number of iterations to allow\n",
        "    maxiters = 1000\n",
        "\n",
        "    for iter in range(maxiters):\n",
        "        sqDmat = calcSqDistances(X, Kmus)\n",
        "        Rnk = determineRnk(sqDmat)\n",
        "        KmusOld = Kmus\n",
        "        \n",
        "        Kmus = recalcMus(X, Rnk)\n",
        "        if np.sum(np.abs(KmusOld.reshape((-1, 1)) - Kmus.reshape((-1, 1)))) < 1e-6:\n",
        "            print(iter)\n",
        "            break\n",
        "\n",
        "    return Kmus, Rnk"
      ],
      "metadata": {
        "id": "zAM0HcElQ-A7"
      },
      "execution_count": null,
      "outputs": []
    },
    {
      "cell_type": "code",
      "source": [
        "Kmus_4, Rnk4 = runKMeans(4, my_data3)\n",
        "#Kmus_3.shape\n",
        "\n",
        "print('Based on K-Means clustering, the countries which belongs to cluster 1 are:')\n",
        "\n",
        "for i in range(len(my_data[:,0])):\n",
        "  if Rnk4[i,0] ==1:\n",
        "    print(my_data[i,0])\n"
      ],
      "metadata": {
        "id": "gewElTKFQ_Z4",
        "colab": {
          "base_uri": "https://localhost:8080/"
        },
        "outputId": "9e3a2b8b-80c7-4635-946a-c18f607a684a"
      },
      "execution_count": null,
      "outputs": [
        {
          "output_type": "stream",
          "name": "stdout",
          "text": [
            "19\n",
            "Based on K-Means clustering, the countries which belongs to cluster 1 are:\n",
            "Australia\n",
            "Austria\n",
            "Bahrain\n",
            "Belgium\n",
            "Canada\n",
            "Cyprus\n",
            "Denmark\n",
            "Finland\n",
            "France\n",
            "Germany\n",
            "Iceland\n",
            "Ireland\n",
            "Israel\n",
            "Italy\n",
            "Japan\n",
            "Netherlands\n",
            "New Zealand\n",
            "Oman\n",
            "Saudi Arabia\n",
            "Spain\n",
            "Sweden\n",
            "United Arab Emirates\n",
            "United Kingdom\n",
            "United States\n"
          ]
        }
      ]
    },
    {
      "cell_type": "code",
      "source": [
        "print('Based on K-Means clustering, the countries which belongs to cluster 2 are:')\n",
        "\n",
        "for i in range(len(my_data[:,0])):\n",
        "  if Rnk4[i,1] ==1:\n",
        "    print(my_data[i,0])\n"
      ],
      "metadata": {
        "id": "2THUMhWzWHhA",
        "colab": {
          "base_uri": "https://localhost:8080/"
        },
        "outputId": "3afb2003-b0d4-4559-f813-c4ee1185bbe5"
      },
      "execution_count": null,
      "outputs": [
        {
          "output_type": "stream",
          "name": "stdout",
          "text": [
            "Based on K-Means clustering, the countries which belongs to cluster 2 are:\n",
            "Afghanistan\n",
            "Albania\n",
            "Algeria\n",
            "Angola\n",
            "Armenia\n",
            "Bangladesh\n",
            "Belize\n",
            "Benin\n",
            "Bhutan\n",
            "Bolivia\n",
            "Bosnia and Herzegovina\n",
            "Botswana\n",
            "Burkina Faso\n",
            "Burundi\n",
            "Cambodia\n",
            "Cameroon\n",
            "Cape Verde\n",
            "Central African Republic\n",
            "Chad\n",
            "China\n",
            "Colombia\n",
            "Comoros\n",
            "Congo, Dem. Rep.\n",
            "Congo, Rep.\n",
            "Cote d'Ivoire\n",
            "Dominican Republic\n",
            "Ecuador\n",
            "Egypt\n",
            "El Salvador\n",
            "Eritrea\n",
            "Fiji\n",
            "Gambia\n",
            "Georgia\n",
            "Ghana\n",
            "Grenada\n",
            "Guatemala\n",
            "Guinea\n",
            "Guinea-Bissau\n",
            "Guyana\n",
            "Haiti\n",
            "India\n",
            "Indonesia\n",
            "Iraq\n",
            "Jamaica\n",
            "Jordan\n",
            "Kenya\n",
            "Kiribati\n",
            "Kyrgyz Republic\n",
            "Lao\n",
            "Lesotho\n",
            "Liberia\n",
            "Macedonia, FYR\n",
            "Madagascar\n",
            "Malawi\n",
            "Maldives\n",
            "Mali\n",
            "Mauritania\n",
            "Micronesia, Fed. Sts.\n",
            "Moldova\n",
            "Mongolia\n",
            "Morocco\n",
            "Mozambique\n",
            "Myanmar\n",
            "Namibia\n",
            "Nepal\n",
            "Niger\n",
            "Nigeria\n",
            "Pakistan\n",
            "Paraguay\n",
            "Peru\n",
            "Philippines\n",
            "Rwanda\n",
            "Samoa\n",
            "Senegal\n",
            "Serbia\n",
            "Sierra Leone\n",
            "Solomon Islands\n",
            "South Africa\n",
            "Sri Lanka\n",
            "St. Vincent and the Grenadines\n",
            "Sudan\n",
            "Tajikistan\n",
            "Tanzania\n",
            "Thailand\n",
            "Timor-Leste\n",
            "Togo\n",
            "Tonga\n",
            "Tunisia\n",
            "Turkmenistan\n",
            "Uganda\n",
            "Ukraine\n",
            "Uzbekistan\n",
            "Vanuatu\n",
            "Vietnam\n",
            "Yemen\n",
            "Zambia\n"
          ]
        }
      ]
    },
    {
      "cell_type": "code",
      "source": [
        "print('Based on K-Means clustering, the countries which belongs to cluster 3 are:')\n",
        "\n",
        "for i in range(len(my_data[:,0])):\n",
        "  if Rnk4[i,2] ==1:\n",
        "    print(my_data[i,0])\n"
      ],
      "metadata": {
        "id": "zCKDw4bERA2d",
        "colab": {
          "base_uri": "https://localhost:8080/"
        },
        "outputId": "b15f69cf-4f93-467f-a464-34e330c61803"
      },
      "execution_count": null,
      "outputs": [
        {
          "output_type": "stream",
          "name": "stdout",
          "text": [
            "Based on K-Means clustering, the countries which belongs to cluster 3 are:\n",
            "Brunei\n",
            "Kuwait\n",
            "Luxembourg\n",
            "Norway\n",
            "Qatar\n",
            "Singapore\n",
            "Switzerland\n"
          ]
        }
      ]
    },
    {
      "cell_type": "code",
      "source": [
        "print('Based on K-Means clustering, the countries which belongs to cluster 4 are:')\n",
        "\n",
        "for i in range(len(my_data[:,0])):\n",
        "  if Rnk4[i,3] ==1:\n",
        "    print(my_data[i,0])\n"
      ],
      "metadata": {
        "id": "-9RD4TMiWSrY",
        "colab": {
          "base_uri": "https://localhost:8080/"
        },
        "outputId": "0185d541-f6e4-4c2f-d23c-3a6e2fe4030b"
      },
      "execution_count": null,
      "outputs": [
        {
          "output_type": "stream",
          "name": "stdout",
          "text": [
            "Based on K-Means clustering, the countries which belongs to cluster 4 are:\n",
            "Antigua and Barbuda\n",
            "Argentina\n",
            "Azerbaijan\n",
            "Bahamas\n",
            "Barbados\n",
            "Belarus\n",
            "Brazil\n",
            "Bulgaria\n",
            "Chile\n",
            "Costa Rica\n",
            "Croatia\n",
            "Czech Republic\n",
            "Equatorial Guinea\n",
            "Estonia\n",
            "Gabon\n",
            "Greece\n",
            "Hungary\n",
            "Iran\n",
            "Kazakhstan\n",
            "Latvia\n",
            "Lebanon\n",
            "Libya\n",
            "Lithuania\n",
            "Malaysia\n",
            "Malta\n",
            "Mauritius\n",
            "Montenegro\n",
            "Panama\n",
            "Poland\n",
            "Portugal\n",
            "Romania\n",
            "Russia\n",
            "Seychelles\n",
            "Slovak Republic\n",
            "Slovenia\n",
            "South Korea\n",
            "Suriname\n",
            "Turkey\n",
            "Uruguay\n",
            "Venezuela\n"
          ]
        }
      ]
    },
    {
      "cell_type": "markdown",
      "source": [
        "### 2.2 With scaling"
      ],
      "metadata": {
        "id": "EOwC6y9uhS0h"
      }
    },
    {
      "cell_type": "code",
      "source": [
        "# We drop the labels in the pandas dataframe too\n",
        "df2 = df.drop('country', axis=1)\n",
        "df2.head()"
      ],
      "metadata": {
        "colab": {
          "base_uri": "https://localhost:8080/",
          "height": 206
        },
        "id": "XXxg7GjohVHM",
        "outputId": "c266c05d-7b5f-4828-de68-90b8072d3ff7"
      },
      "execution_count": null,
      "outputs": [
        {
          "output_type": "execute_result",
          "data": {
            "text/html": [
              "\n",
              "  <div id=\"df-3df2c285-6212-4349-b87e-afd89b744b24\">\n",
              "    <div class=\"colab-df-container\">\n",
              "      <div>\n",
              "<style scoped>\n",
              "    .dataframe tbody tr th:only-of-type {\n",
              "        vertical-align: middle;\n",
              "    }\n",
              "\n",
              "    .dataframe tbody tr th {\n",
              "        vertical-align: top;\n",
              "    }\n",
              "\n",
              "    .dataframe thead th {\n",
              "        text-align: right;\n",
              "    }\n",
              "</style>\n",
              "<table border=\"1\" class=\"dataframe\">\n",
              "  <thead>\n",
              "    <tr style=\"text-align: right;\">\n",
              "      <th></th>\n",
              "      <th>child_mort</th>\n",
              "      <th>exports</th>\n",
              "      <th>health</th>\n",
              "      <th>imports</th>\n",
              "      <th>income</th>\n",
              "      <th>inflation</th>\n",
              "      <th>life_expec</th>\n",
              "      <th>total_fer</th>\n",
              "      <th>gdpp</th>\n",
              "    </tr>\n",
              "  </thead>\n",
              "  <tbody>\n",
              "    <tr>\n",
              "      <th>0</th>\n",
              "      <td>90.2</td>\n",
              "      <td>10.0</td>\n",
              "      <td>7.58</td>\n",
              "      <td>44.9</td>\n",
              "      <td>1610</td>\n",
              "      <td>9.44</td>\n",
              "      <td>56.2</td>\n",
              "      <td>5.82</td>\n",
              "      <td>553</td>\n",
              "    </tr>\n",
              "    <tr>\n",
              "      <th>1</th>\n",
              "      <td>16.6</td>\n",
              "      <td>28.0</td>\n",
              "      <td>6.55</td>\n",
              "      <td>48.6</td>\n",
              "      <td>9930</td>\n",
              "      <td>4.49</td>\n",
              "      <td>76.3</td>\n",
              "      <td>1.65</td>\n",
              "      <td>4090</td>\n",
              "    </tr>\n",
              "    <tr>\n",
              "      <th>2</th>\n",
              "      <td>27.3</td>\n",
              "      <td>38.4</td>\n",
              "      <td>4.17</td>\n",
              "      <td>31.4</td>\n",
              "      <td>12900</td>\n",
              "      <td>16.10</td>\n",
              "      <td>76.5</td>\n",
              "      <td>2.89</td>\n",
              "      <td>4460</td>\n",
              "    </tr>\n",
              "    <tr>\n",
              "      <th>3</th>\n",
              "      <td>119.0</td>\n",
              "      <td>62.3</td>\n",
              "      <td>2.85</td>\n",
              "      <td>42.9</td>\n",
              "      <td>5900</td>\n",
              "      <td>22.40</td>\n",
              "      <td>60.1</td>\n",
              "      <td>6.16</td>\n",
              "      <td>3530</td>\n",
              "    </tr>\n",
              "    <tr>\n",
              "      <th>4</th>\n",
              "      <td>10.3</td>\n",
              "      <td>45.5</td>\n",
              "      <td>6.03</td>\n",
              "      <td>58.9</td>\n",
              "      <td>19100</td>\n",
              "      <td>1.44</td>\n",
              "      <td>76.8</td>\n",
              "      <td>2.13</td>\n",
              "      <td>12200</td>\n",
              "    </tr>\n",
              "  </tbody>\n",
              "</table>\n",
              "</div>\n",
              "      <button class=\"colab-df-convert\" onclick=\"convertToInteractive('df-3df2c285-6212-4349-b87e-afd89b744b24')\"\n",
              "              title=\"Convert this dataframe to an interactive table.\"\n",
              "              style=\"display:none;\">\n",
              "        \n",
              "  <svg xmlns=\"http://www.w3.org/2000/svg\" height=\"24px\"viewBox=\"0 0 24 24\"\n",
              "       width=\"24px\">\n",
              "    <path d=\"M0 0h24v24H0V0z\" fill=\"none\"/>\n",
              "    <path d=\"M18.56 5.44l.94 2.06.94-2.06 2.06-.94-2.06-.94-.94-2.06-.94 2.06-2.06.94zm-11 1L8.5 8.5l.94-2.06 2.06-.94-2.06-.94L8.5 2.5l-.94 2.06-2.06.94zm10 10l.94 2.06.94-2.06 2.06-.94-2.06-.94-.94-2.06-.94 2.06-2.06.94z\"/><path d=\"M17.41 7.96l-1.37-1.37c-.4-.4-.92-.59-1.43-.59-.52 0-1.04.2-1.43.59L10.3 9.45l-7.72 7.72c-.78.78-.78 2.05 0 2.83L4 21.41c.39.39.9.59 1.41.59.51 0 1.02-.2 1.41-.59l7.78-7.78 2.81-2.81c.8-.78.8-2.07 0-2.86zM5.41 20L4 18.59l7.72-7.72 1.47 1.35L5.41 20z\"/>\n",
              "  </svg>\n",
              "      </button>\n",
              "      \n",
              "  <style>\n",
              "    .colab-df-container {\n",
              "      display:flex;\n",
              "      flex-wrap:wrap;\n",
              "      gap: 12px;\n",
              "    }\n",
              "\n",
              "    .colab-df-convert {\n",
              "      background-color: #E8F0FE;\n",
              "      border: none;\n",
              "      border-radius: 50%;\n",
              "      cursor: pointer;\n",
              "      display: none;\n",
              "      fill: #1967D2;\n",
              "      height: 32px;\n",
              "      padding: 0 0 0 0;\n",
              "      width: 32px;\n",
              "    }\n",
              "\n",
              "    .colab-df-convert:hover {\n",
              "      background-color: #E2EBFA;\n",
              "      box-shadow: 0px 1px 2px rgba(60, 64, 67, 0.3), 0px 1px 3px 1px rgba(60, 64, 67, 0.15);\n",
              "      fill: #174EA6;\n",
              "    }\n",
              "\n",
              "    [theme=dark] .colab-df-convert {\n",
              "      background-color: #3B4455;\n",
              "      fill: #D2E3FC;\n",
              "    }\n",
              "\n",
              "    [theme=dark] .colab-df-convert:hover {\n",
              "      background-color: #434B5C;\n",
              "      box-shadow: 0px 1px 3px 1px rgba(0, 0, 0, 0.15);\n",
              "      filter: drop-shadow(0px 1px 2px rgba(0, 0, 0, 0.3));\n",
              "      fill: #FFFFFF;\n",
              "    }\n",
              "  </style>\n",
              "\n",
              "      <script>\n",
              "        const buttonEl =\n",
              "          document.querySelector('#df-3df2c285-6212-4349-b87e-afd89b744b24 button.colab-df-convert');\n",
              "        buttonEl.style.display =\n",
              "          google.colab.kernel.accessAllowed ? 'block' : 'none';\n",
              "\n",
              "        async function convertToInteractive(key) {\n",
              "          const element = document.querySelector('#df-3df2c285-6212-4349-b87e-afd89b744b24');\n",
              "          const dataTable =\n",
              "            await google.colab.kernel.invokeFunction('convertToInteractive',\n",
              "                                                     [key], {});\n",
              "          if (!dataTable) return;\n",
              "\n",
              "          const docLinkHtml = 'Like what you see? Visit the ' +\n",
              "            '<a target=\"_blank\" href=https://colab.research.google.com/notebooks/data_table.ipynb>data table notebook</a>'\n",
              "            + ' to learn more about interactive tables.';\n",
              "          element.innerHTML = '';\n",
              "          dataTable['output_type'] = 'display_data';\n",
              "          await google.colab.output.renderOutput(dataTable, element);\n",
              "          const docLink = document.createElement('div');\n",
              "          docLink.innerHTML = docLinkHtml;\n",
              "          element.appendChild(docLink);\n",
              "        }\n",
              "      </script>\n",
              "    </div>\n",
              "  </div>\n",
              "  "
            ],
            "text/plain": [
              "   child_mort  exports  health  imports  income  inflation  life_expec  \\\n",
              "0        90.2     10.0    7.58     44.9    1610       9.44        56.2   \n",
              "1        16.6     28.0    6.55     48.6    9930       4.49        76.3   \n",
              "2        27.3     38.4    4.17     31.4   12900      16.10        76.5   \n",
              "3       119.0     62.3    2.85     42.9    5900      22.40        60.1   \n",
              "4        10.3     45.5    6.03     58.9   19100       1.44        76.8   \n",
              "\n",
              "   total_fer   gdpp  \n",
              "0       5.82    553  \n",
              "1       1.65   4090  \n",
              "2       2.89   4460  \n",
              "3       6.16   3530  \n",
              "4       2.13  12200  "
            ]
          },
          "metadata": {},
          "execution_count": 16
        }
      ]
    },
    {
      "cell_type": "code",
      "source": [
        "# Standard scale the data to avoid features with large values having large impact\n",
        "from sklearn import preprocessing \n",
        "df_scaled=preprocessing.scale(df2)\n",
        "print(df_scaled)"
      ],
      "metadata": {
        "colab": {
          "base_uri": "https://localhost:8080/"
        },
        "id": "w_y1pHlEhgjZ",
        "outputId": "d7996d5f-550a-4c5e-d717-49c2cb349982"
      },
      "execution_count": null,
      "outputs": [
        {
          "output_type": "stream",
          "name": "stdout",
          "text": [
            "[[ 1.29153238 -1.13827979  0.27908825 ... -1.61909203  1.90288227\n",
            "  -0.67917961]\n",
            " [-0.5389489  -0.47965843 -0.09701618 ...  0.64786643 -0.85997281\n",
            "  -0.48562324]\n",
            " [-0.27283273 -0.09912164 -0.96607302 ...  0.67042323 -0.0384044\n",
            "  -0.46537561]\n",
            " ...\n",
            " [-0.37231541  1.13030491  0.0088773  ...  0.28695762 -0.66120626\n",
            "  -0.63775406]\n",
            " [ 0.44841668 -0.40647827 -0.59727159 ... -0.34463279  1.14094382\n",
            "  -0.63775406]\n",
            " [ 1.11495062 -0.15034774 -0.33801514 ... -2.09278484  1.6246091\n",
            "  -0.62954556]]\n"
          ]
        }
      ]
    },
    {
      "cell_type": "code",
      "source": [
        "# Run K-means on scaled data\n",
        "Kmus_4_scaled, Rnk4_scaled = runKMeans(4, df_scaled)"
      ],
      "metadata": {
        "colab": {
          "base_uri": "https://localhost:8080/"
        },
        "id": "t4wP_NV8hniU",
        "outputId": "8781dcca-bb4d-4f4f-9b00-c568f7a57e1c"
      },
      "execution_count": null,
      "outputs": [
        {
          "output_type": "stream",
          "name": "stdout",
          "text": [
            "10\n"
          ]
        }
      ]
    },
    {
      "cell_type": "code",
      "source": [
        "print('Based on K-Means clustering & scaled data, the countries which belongs to cluster 1 are:')\n",
        "\n",
        "for i in range(len(df_scaled[:,0])):\n",
        "  if Rnk4_scaled[i,0] ==1:\n",
        "    print(my_data[i,0])\n"
      ],
      "metadata": {
        "colab": {
          "base_uri": "https://localhost:8080/"
        },
        "id": "lSFZbhqBhvkN",
        "outputId": "fcd64b1e-6f60-4e7e-b99c-3125f2201c2a"
      },
      "execution_count": null,
      "outputs": [
        {
          "output_type": "stream",
          "name": "stdout",
          "text": [
            "Based on K-Means clustering & scaled data, the countries which belongs to cluster 1 are:\n",
            "Australia\n",
            "Austria\n",
            "Belgium\n",
            "Brunei\n",
            "Canada\n",
            "Cyprus\n",
            "Denmark\n",
            "Finland\n",
            "France\n",
            "Germany\n",
            "Greece\n",
            "Iceland\n",
            "Ireland\n",
            "Israel\n",
            "Italy\n",
            "Japan\n",
            "Kuwait\n",
            "Netherlands\n",
            "New Zealand\n",
            "Norway\n",
            "Portugal\n",
            "Qatar\n",
            "Slovenia\n",
            "Spain\n",
            "Sweden\n",
            "Switzerland\n",
            "United Arab Emirates\n",
            "United Kingdom\n",
            "United States\n"
          ]
        }
      ]
    },
    {
      "cell_type": "code",
      "source": [
        "print('Based on K-Means clustering & scaled data, the countries which belongs to cluster 2 are:')\n",
        "\n",
        "for i in range(len(df_scaled[:,0])):\n",
        "  if Rnk4_scaled[i,1] ==1:\n",
        "    print(my_data[i,0])\n"
      ],
      "metadata": {
        "colab": {
          "base_uri": "https://localhost:8080/"
        },
        "id": "wtp_pZafh-B8",
        "outputId": "54373c87-e7cb-48db-f055-6ab9f61001c5"
      },
      "execution_count": null,
      "outputs": [
        {
          "output_type": "stream",
          "name": "stdout",
          "text": [
            "Based on K-Means clustering & scaled data, the countries which belongs to cluster 2 are:\n",
            "Afghanistan\n",
            "Angola\n",
            "Benin\n",
            "Botswana\n",
            "Burkina Faso\n",
            "Burundi\n",
            "Cameroon\n",
            "Central African Republic\n",
            "Chad\n",
            "Comoros\n",
            "Congo, Dem. Rep.\n",
            "Congo, Rep.\n",
            "Cote d'Ivoire\n",
            "Equatorial Guinea\n",
            "Eritrea\n",
            "Gabon\n",
            "Gambia\n",
            "Ghana\n",
            "Guinea\n",
            "Guinea-Bissau\n",
            "Haiti\n",
            "Iraq\n",
            "Kenya\n",
            "Kiribati\n",
            "Lao\n",
            "Lesotho\n",
            "Liberia\n",
            "Madagascar\n",
            "Malawi\n",
            "Mali\n",
            "Mauritania\n",
            "Mozambique\n",
            "Myanmar\n",
            "Namibia\n",
            "Niger\n",
            "Nigeria\n",
            "Pakistan\n",
            "Rwanda\n",
            "Senegal\n",
            "Sierra Leone\n",
            "South Africa\n",
            "Sudan\n",
            "Tanzania\n",
            "Timor-Leste\n",
            "Togo\n",
            "Uganda\n",
            "Yemen\n",
            "Zambia\n"
          ]
        }
      ]
    },
    {
      "cell_type": "code",
      "source": [
        "print('Based on K-Means clustering & scaled data, the countries which belongs to cluster 3 are:')\n",
        "\n",
        "for i in range(len(df_scaled[:,0])):\n",
        "  if Rnk4_scaled[i,2] ==1:\n",
        "    print(my_data[i,0])\n"
      ],
      "metadata": {
        "colab": {
          "base_uri": "https://localhost:8080/"
        },
        "id": "COhyxohmiVgp",
        "outputId": "119cd1a3-b1fb-4030-b922-3979638eb747"
      },
      "execution_count": null,
      "outputs": [
        {
          "output_type": "stream",
          "name": "stdout",
          "text": [
            "Based on K-Means clustering & scaled data, the countries which belongs to cluster 3 are:\n",
            "Albania\n",
            "Algeria\n",
            "Antigua and Barbuda\n",
            "Argentina\n",
            "Armenia\n",
            "Azerbaijan\n",
            "Bahamas\n",
            "Bahrain\n",
            "Bangladesh\n",
            "Barbados\n",
            "Belarus\n",
            "Belize\n",
            "Bhutan\n",
            "Bolivia\n",
            "Bosnia and Herzegovina\n",
            "Brazil\n",
            "Bulgaria\n",
            "Cambodia\n",
            "Cape Verde\n",
            "Chile\n",
            "China\n",
            "Colombia\n",
            "Costa Rica\n",
            "Croatia\n",
            "Czech Republic\n",
            "Dominican Republic\n",
            "Ecuador\n",
            "Egypt\n",
            "El Salvador\n",
            "Estonia\n",
            "Fiji\n",
            "Georgia\n",
            "Grenada\n",
            "Guatemala\n",
            "Guyana\n",
            "Hungary\n",
            "India\n",
            "Indonesia\n",
            "Iran\n",
            "Jamaica\n",
            "Jordan\n",
            "Kazakhstan\n",
            "Kyrgyz Republic\n",
            "Latvia\n",
            "Lebanon\n",
            "Libya\n",
            "Lithuania\n",
            "Macedonia, FYR\n",
            "Malaysia\n",
            "Maldives\n",
            "Mauritius\n",
            "Micronesia, Fed. Sts.\n",
            "Moldova\n",
            "Mongolia\n",
            "Montenegro\n",
            "Morocco\n",
            "Nepal\n",
            "Oman\n",
            "Panama\n",
            "Paraguay\n",
            "Peru\n",
            "Philippines\n",
            "Poland\n",
            "Romania\n",
            "Russia\n",
            "Samoa\n",
            "Saudi Arabia\n",
            "Serbia\n",
            "Seychelles\n",
            "Slovak Republic\n",
            "Solomon Islands\n",
            "South Korea\n",
            "Sri Lanka\n",
            "St. Vincent and the Grenadines\n",
            "Suriname\n",
            "Tajikistan\n",
            "Thailand\n",
            "Tonga\n",
            "Tunisia\n",
            "Turkey\n",
            "Turkmenistan\n",
            "Ukraine\n",
            "Uruguay\n",
            "Uzbekistan\n",
            "Vanuatu\n",
            "Venezuela\n",
            "Vietnam\n"
          ]
        }
      ]
    },
    {
      "cell_type": "code",
      "source": [
        "print('Based on K-Means clustering & scaled data, the countries which belongs to cluster 4 are:')\n",
        "\n",
        "for i in range(len(df_scaled[:,0])):\n",
        "  if Rnk4_scaled[i,3] ==1:\n",
        "    print(my_data[i,0])\n"
      ],
      "metadata": {
        "colab": {
          "base_uri": "https://localhost:8080/"
        },
        "id": "pNNcfIV1iYmA",
        "outputId": "8e5d54aa-928f-4cf2-dff9-a0a042e261a7"
      },
      "execution_count": null,
      "outputs": [
        {
          "output_type": "stream",
          "name": "stdout",
          "text": [
            "Based on K-Means clustering & scaled data, the countries which belongs to cluster 4 are:\n",
            "Luxembourg\n",
            "Malta\n",
            "Singapore\n"
          ]
        }
      ]
    },
    {
      "cell_type": "markdown",
      "source": [
        "## Part C: PCA"
      ],
      "metadata": {
        "id": "5szotfYKG1Ls"
      }
    },
    {
      "cell_type": "markdown",
      "source": [
        "### Number of dimensions needed"
      ],
      "metadata": {
        "id": "RG-Z1sBCZp4o"
      }
    },
    {
      "cell_type": "code",
      "source": [
        "df2.head()"
      ],
      "metadata": {
        "id": "rC_lU1cBWRs9",
        "colab": {
          "base_uri": "https://localhost:8080/",
          "height": 206
        },
        "outputId": "5664b279-587b-4754-e310-9dd21351d986"
      },
      "execution_count": null,
      "outputs": [
        {
          "output_type": "execute_result",
          "data": {
            "text/html": [
              "\n",
              "  <div id=\"df-73ba0126-93a5-4696-b4ed-b31bce56bd7e\">\n",
              "    <div class=\"colab-df-container\">\n",
              "      <div>\n",
              "<style scoped>\n",
              "    .dataframe tbody tr th:only-of-type {\n",
              "        vertical-align: middle;\n",
              "    }\n",
              "\n",
              "    .dataframe tbody tr th {\n",
              "        vertical-align: top;\n",
              "    }\n",
              "\n",
              "    .dataframe thead th {\n",
              "        text-align: right;\n",
              "    }\n",
              "</style>\n",
              "<table border=\"1\" class=\"dataframe\">\n",
              "  <thead>\n",
              "    <tr style=\"text-align: right;\">\n",
              "      <th></th>\n",
              "      <th>country</th>\n",
              "      <th>child_mort</th>\n",
              "      <th>exports</th>\n",
              "      <th>health</th>\n",
              "      <th>imports</th>\n",
              "      <th>income</th>\n",
              "      <th>inflation</th>\n",
              "      <th>life_expec</th>\n",
              "      <th>total_fer</th>\n",
              "      <th>gdpp</th>\n",
              "    </tr>\n",
              "  </thead>\n",
              "  <tbody>\n",
              "    <tr>\n",
              "      <th>0</th>\n",
              "      <td>Afghanistan</td>\n",
              "      <td>90.2</td>\n",
              "      <td>10.0</td>\n",
              "      <td>7.58</td>\n",
              "      <td>44.9</td>\n",
              "      <td>1610</td>\n",
              "      <td>9.44</td>\n",
              "      <td>56.2</td>\n",
              "      <td>5.82</td>\n",
              "      <td>553</td>\n",
              "    </tr>\n",
              "    <tr>\n",
              "      <th>1</th>\n",
              "      <td>Albania</td>\n",
              "      <td>16.6</td>\n",
              "      <td>28.0</td>\n",
              "      <td>6.55</td>\n",
              "      <td>48.6</td>\n",
              "      <td>9930</td>\n",
              "      <td>4.49</td>\n",
              "      <td>76.3</td>\n",
              "      <td>1.65</td>\n",
              "      <td>4090</td>\n",
              "    </tr>\n",
              "    <tr>\n",
              "      <th>2</th>\n",
              "      <td>Algeria</td>\n",
              "      <td>27.3</td>\n",
              "      <td>38.4</td>\n",
              "      <td>4.17</td>\n",
              "      <td>31.4</td>\n",
              "      <td>12900</td>\n",
              "      <td>16.10</td>\n",
              "      <td>76.5</td>\n",
              "      <td>2.89</td>\n",
              "      <td>4460</td>\n",
              "    </tr>\n",
              "    <tr>\n",
              "      <th>3</th>\n",
              "      <td>Angola</td>\n",
              "      <td>119.0</td>\n",
              "      <td>62.3</td>\n",
              "      <td>2.85</td>\n",
              "      <td>42.9</td>\n",
              "      <td>5900</td>\n",
              "      <td>22.40</td>\n",
              "      <td>60.1</td>\n",
              "      <td>6.16</td>\n",
              "      <td>3530</td>\n",
              "    </tr>\n",
              "    <tr>\n",
              "      <th>4</th>\n",
              "      <td>Antigua and Barbuda</td>\n",
              "      <td>10.3</td>\n",
              "      <td>45.5</td>\n",
              "      <td>6.03</td>\n",
              "      <td>58.9</td>\n",
              "      <td>19100</td>\n",
              "      <td>1.44</td>\n",
              "      <td>76.8</td>\n",
              "      <td>2.13</td>\n",
              "      <td>12200</td>\n",
              "    </tr>\n",
              "  </tbody>\n",
              "</table>\n",
              "</div>\n",
              "      <button class=\"colab-df-convert\" onclick=\"convertToInteractive('df-73ba0126-93a5-4696-b4ed-b31bce56bd7e')\"\n",
              "              title=\"Convert this dataframe to an interactive table.\"\n",
              "              style=\"display:none;\">\n",
              "        \n",
              "  <svg xmlns=\"http://www.w3.org/2000/svg\" height=\"24px\"viewBox=\"0 0 24 24\"\n",
              "       width=\"24px\">\n",
              "    <path d=\"M0 0h24v24H0V0z\" fill=\"none\"/>\n",
              "    <path d=\"M18.56 5.44l.94 2.06.94-2.06 2.06-.94-2.06-.94-.94-2.06-.94 2.06-2.06.94zm-11 1L8.5 8.5l.94-2.06 2.06-.94-2.06-.94L8.5 2.5l-.94 2.06-2.06.94zm10 10l.94 2.06.94-2.06 2.06-.94-2.06-.94-.94-2.06-.94 2.06-2.06.94z\"/><path d=\"M17.41 7.96l-1.37-1.37c-.4-.4-.92-.59-1.43-.59-.52 0-1.04.2-1.43.59L10.3 9.45l-7.72 7.72c-.78.78-.78 2.05 0 2.83L4 21.41c.39.39.9.59 1.41.59.51 0 1.02-.2 1.41-.59l7.78-7.78 2.81-2.81c.8-.78.8-2.07 0-2.86zM5.41 20L4 18.59l7.72-7.72 1.47 1.35L5.41 20z\"/>\n",
              "  </svg>\n",
              "      </button>\n",
              "      \n",
              "  <style>\n",
              "    .colab-df-container {\n",
              "      display:flex;\n",
              "      flex-wrap:wrap;\n",
              "      gap: 12px;\n",
              "    }\n",
              "\n",
              "    .colab-df-convert {\n",
              "      background-color: #E8F0FE;\n",
              "      border: none;\n",
              "      border-radius: 50%;\n",
              "      cursor: pointer;\n",
              "      display: none;\n",
              "      fill: #1967D2;\n",
              "      height: 32px;\n",
              "      padding: 0 0 0 0;\n",
              "      width: 32px;\n",
              "    }\n",
              "\n",
              "    .colab-df-convert:hover {\n",
              "      background-color: #E2EBFA;\n",
              "      box-shadow: 0px 1px 2px rgba(60, 64, 67, 0.3), 0px 1px 3px 1px rgba(60, 64, 67, 0.15);\n",
              "      fill: #174EA6;\n",
              "    }\n",
              "\n",
              "    [theme=dark] .colab-df-convert {\n",
              "      background-color: #3B4455;\n",
              "      fill: #D2E3FC;\n",
              "    }\n",
              "\n",
              "    [theme=dark] .colab-df-convert:hover {\n",
              "      background-color: #434B5C;\n",
              "      box-shadow: 0px 1px 3px 1px rgba(0, 0, 0, 0.15);\n",
              "      filter: drop-shadow(0px 1px 2px rgba(0, 0, 0, 0.3));\n",
              "      fill: #FFFFFF;\n",
              "    }\n",
              "  </style>\n",
              "\n",
              "      <script>\n",
              "        const buttonEl =\n",
              "          document.querySelector('#df-73ba0126-93a5-4696-b4ed-b31bce56bd7e button.colab-df-convert');\n",
              "        buttonEl.style.display =\n",
              "          google.colab.kernel.accessAllowed ? 'block' : 'none';\n",
              "\n",
              "        async function convertToInteractive(key) {\n",
              "          const element = document.querySelector('#df-73ba0126-93a5-4696-b4ed-b31bce56bd7e');\n",
              "          const dataTable =\n",
              "            await google.colab.kernel.invokeFunction('convertToInteractive',\n",
              "                                                     [key], {});\n",
              "          if (!dataTable) return;\n",
              "\n",
              "          const docLinkHtml = 'Like what you see? Visit the ' +\n",
              "            '<a target=\"_blank\" href=https://colab.research.google.com/notebooks/data_table.ipynb>data table notebook</a>'\n",
              "            + ' to learn more about interactive tables.';\n",
              "          element.innerHTML = '';\n",
              "          dataTable['output_type'] = 'display_data';\n",
              "          await google.colab.output.renderOutput(dataTable, element);\n",
              "          const docLink = document.createElement('div');\n",
              "          docLink.innerHTML = docLinkHtml;\n",
              "          element.appendChild(docLink);\n",
              "        }\n",
              "      </script>\n",
              "    </div>\n",
              "  </div>\n",
              "  "
            ],
            "text/plain": [
              "               country  child_mort  exports  health  imports  income  \\\n",
              "0          Afghanistan        90.2     10.0    7.58     44.9    1610   \n",
              "1              Albania        16.6     28.0    6.55     48.6    9930   \n",
              "2              Algeria        27.3     38.4    4.17     31.4   12900   \n",
              "3               Angola       119.0     62.3    2.85     42.9    5900   \n",
              "4  Antigua and Barbuda        10.3     45.5    6.03     58.9   19100   \n",
              "\n",
              "   inflation  life_expec  total_fer   gdpp  \n",
              "0       9.44        56.2       5.82    553  \n",
              "1       4.49        76.3       1.65   4090  \n",
              "2      16.10        76.5       2.89   4460  \n",
              "3      22.40        60.1       6.16   3530  \n",
              "4       1.44        76.8       2.13  12200  "
            ]
          },
          "metadata": {},
          "execution_count": 38
        }
      ]
    },
    {
      "cell_type": "code",
      "source": [
        "# Find explained variance for each dimensions\n",
        "from sklearn.decomposition import PCA \n",
        "import matplotlib.pyplot as plt\n",
        "\n",
        "# We used the scaled data\n",
        "reduced_data1=PCA(n_components=9).fit(df_scaled)\n",
        "\n",
        "explained_variance = np.cumsum(np.round(reduced_data1.explained_variance_ratio_, decimals=5)*100)\n",
        "\n",
        "# Scree Plot\n",
        "plt.plot(explained_variance, marker='x')\n",
        "plt.title('Scree Plot: PCs and their Cumulative Explained Variance Ratio',fontsize=15)\n",
        "plt.xlabel('Number of components',fontsize=12)\n",
        "plt.ylabel('Cumulative Explained Variance Ratio',fontsize=12)"
      ],
      "metadata": {
        "id": "W5MbtiupG2sw",
        "colab": {
          "base_uri": "https://localhost:8080/",
          "height": 317
        },
        "outputId": "472c7b01-6847-4f85-e9d4-a8e322ddd5ca"
      },
      "execution_count": null,
      "outputs": [
        {
          "output_type": "execute_result",
          "data": {
            "text/plain": [
              "Text(0, 0.5, 'Cumulative Explained Variance Ratio')"
            ]
          },
          "metadata": {},
          "execution_count": 26
        },
        {
          "output_type": "display_data",
          "data": {
            "image/png": "[encoded data removed]",
            "text/plain": [
              "<Figure size 432x288 with 1 Axes>"
            ]
          },
          "metadata": {
            "needs_background": "light"
          }
        }
      ]
    },
    {
      "cell_type": "markdown",
      "source": [
        "### PCA to reduce dimensions"
      ],
      "metadata": {
        "id": "fudstrxcZslp"
      }
    },
    {
      "cell_type": "code",
      "source": [
        "pca = PCA(n_components = 5)\n",
        "principalComp = pca.fit_transform(df_scaled)\n",
        "principalDf = pd.DataFrame(data = principalComp)\n",
        "             #, columns = ['principal component 1', 'principal component 2', 'principal component 3', 'principal component 4', 'principal component 5'])\n",
        "principalDfNP = principalDf.to_numpy()\n",
        "#principalDfNP\n",
        "Kmus_4PCA, Rnk4PCA = runKMeans(4, principalDfNP)\n"
      ],
      "metadata": {
        "id": "23abN190Zv4f"
      },
      "execution_count": null,
      "outputs": []
    },
    {
      "cell_type": "code",
      "source": [
        "print('Based on K-Means clustering, the countries which belongs to cluster 1 are:')\n",
        "\n",
        "for i in range(len(my_data[:,0])):\n",
        "  if Rnk4PCA[i,0] ==1:\n",
        "    print(my_data[i,0])"
      ],
      "metadata": {
        "id": "Vv2_VLpcnEce"
      },
      "execution_count": null,
      "outputs": []
    },
    {
      "cell_type": "code",
      "source": [
        "print('Based on K-Means clustering, the countries which belongs to cluster 2 are:')\n",
        "\n",
        "for i in range(len(my_data[:,0])):\n",
        "  if Rnk4PCA[i,1] ==1:\n",
        "    print(my_data[i,0])\n"
      ],
      "metadata": {
        "id": "L6sTNw73nGdh"
      },
      "execution_count": null,
      "outputs": []
    },
    {
      "cell_type": "code",
      "source": [
        "print('Based on K-Means clustering, the countries which belongs to cluster 3 are:')\n",
        "\n",
        "for i in range(len(my_data[:,0])):\n",
        "  if Rnk4PCA[i,2] ==1:\n",
        "    print(my_data[i,0])\n"
      ],
      "metadata": {
        "id": "rxak9Wp5nG3i"
      },
      "execution_count": null,
      "outputs": []
    },
    {
      "cell_type": "code",
      "source": [
        "print('Based on K-Means clustering, the countries which belongs to cluster 4 are:')\n",
        "\n",
        "for i in range(len(my_data[:,0])):\n",
        "  if Rnk4PCA[i,3] ==1:\n",
        "    print(my_data[i,0])\n"
      ],
      "metadata": {
        "id": "KJfoeLhfnJj-"
      },
      "execution_count": null,
      "outputs": []
    },
    {
      "cell_type": "markdown",
      "source": [
        "## Part D: Clustering with reduced dimensions"
      ],
      "metadata": {
        "id": "3C3o-NEGG4qS"
      }
    },
    {
      "cell_type": "code",
      "source": [
        ""
      ],
      "metadata": {
        "id": "lc9-jHQ3G8nx"
      },
      "execution_count": null,
      "outputs": []
    }
  ]
}